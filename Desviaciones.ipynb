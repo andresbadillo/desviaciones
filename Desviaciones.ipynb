{
  "nbformat": 4,
  "nbformat_minor": 0,
  "metadata": {
    "colab": {
      "provenance": [],
      "authorship_tag": "ABX9TyOUc6+iL68RrMspSruH0FE9",
      "include_colab_link": true
    },
    "kernelspec": {
      "name": "python3",
      "display_name": "Python 3"
    },
    "language_info": {
      "name": "python"
    }
  },
  "cells": [
    {
      "cell_type": "markdown",
      "metadata": {
        "id": "view-in-github",
        "colab_type": "text"
      },
      "source": [
        "<a href=\"https://colab.research.google.com/github/andresbadillo/desviaciones/blob/master/Desviaciones.ipynb\" target=\"_parent\"><img src=\"https://colab.research.google.com/assets/colab-badge.svg\" alt=\"Open In Colab\"/></a>"
      ]
    },
    {
      "cell_type": "markdown",
      "source": [
        "## Desviaciones\n",
        "- Cargar el archivo en pdf con todas las desviaciones \"bien escaneadas\""
      ],
      "metadata": {
        "id": "tBVujwODu7Ty"
      }
    },
    {
      "cell_type": "code",
      "source": [
        "!sudo apt install tesseract-ocr poppler-utils\n",
        "!pip install pdf2image pytesseract PyPDF2\n",
        "\n",
        "import os\n",
        "import re\n",
        "from PIL import Image\n",
        "import pytesseract\n",
        "from pdf2image import convert_from_path\n",
        "from PyPDF2 import PdfReader, PdfWriter\n",
        "from google.colab import files\n",
        "from IPython.display import HTML\n",
        "\n",
        "def procesar_pdf():\n",
        "    # Configurar rutas y carpetas\n",
        "    if not os.path.exists('temp_images'):\n",
        "        os.makedirs('temp_images')\n",
        "    if not os.path.exists('paginas'):\n",
        "        os.makedirs('paginas')\n",
        "\n",
        "    # Subir archivo PDF\n",
        "    uploaded = files.upload()\n",
        "    pdf_path = list(uploaded.keys())[0]\n",
        "\n",
        "    # Convertir PDF a imágenes\n",
        "    images = convert_from_path(pdf_path, dpi=300, output_folder='temp_images', fmt='jpeg')\n",
        "\n",
        "    # Procesar cada página\n",
        "    reader = PdfReader(pdf_path)\n",
        "    nius = {}\n",
        "\n",
        "    for page_num, image in enumerate(images):\n",
        "        # 1. Recortar área de NIU (ajustar coordenadas según necesidad)\n",
        "        width, height = image.size\n",
        "        area_niu = (width * 0.7, height * 0.05, width * 0.95, height * 0.12)  # Superior derecha\n",
        "        cropped = image.crop(area_niu)\n",
        "\n",
        "        # 2. OCR en el área recortada\n",
        "        text = pytesseract.image_to_string(cropped, config='--psm 6').strip()\n",
        "\n",
        "        # 3. Buscar número de al menos 3 dígitos\n",
        "        match = re.search(r'\\b\\d{3,}\\b', text)\n",
        "\n",
        "        # Si se encuentra, asignar el NIU; si no, usar un nombre genérico\n",
        "        niu = match.group(0) if match else f\"unknown_NIU_{page_num + 1}\"\n",
        "\n",
        "        nius[page_num + 1] = niu\n",
        "\n",
        "        # Guardar para debug\n",
        "        cropped.save(f'temp_images/pag_{page_num + 1}_niu_{niu}.jpg')\n",
        "\n",
        "    # Dividir PDF y renombrar\n",
        "    for page_num in range(len(reader.pages)):\n",
        "        writer = PdfWriter()\n",
        "        writer.add_page(reader.pages[page_num])\n",
        "\n",
        "        output_name = f\"paginas/{nius[page_num + 1]}.pdf\"\n",
        "\n",
        "        with open(output_name, \"wb\") as out_pdf:\n",
        "            writer.write(out_pdf)\n",
        "\n",
        "    # Comprimir y descargar\n",
        "    !zip -r resultados.zip paginas/ temp_images/\n",
        "    files.download(\"resultados.zip\")\n",
        "\n",
        "# Ejecutar el proceso\n",
        "procesar_pdf()"
      ],
      "metadata": {
        "id": "bIChOmtcaEFx"
      },
      "execution_count": null,
      "outputs": []
    },
    {
      "cell_type": "markdown",
      "source": [
        "## Borrar la carpeta `content`\n",
        "- cambiar el final de la ruta con `paginas` o `temp_images`\n"
      ],
      "metadata": {
        "id": "fxZEuhY7vI4Q"
      }
    },
    {
      "cell_type": "code",
      "source": [
        "import os\n",
        "\n",
        "# Ruta de la carpeta predeterminada en Google Colab\n",
        "folder_path = '/content/paginas'\n",
        "\n",
        "# Eliminar todos los archivos en la carpeta\n",
        "for filename in os.listdir(folder_path):\n",
        "    file_path = os.path.join(folder_path, filename)\n",
        "    if os.path.isfile(file_path):\n",
        "        os.remove(file_path)\n",
        "\n",
        "print(\"\\nTodos los archivos cargados han sido eliminados de la carpeta content de Google Colab.\")"
      ],
      "metadata": {
        "colab": {
          "base_uri": "https://localhost:8080/"
        },
        "id": "MYj1kTFknUF3",
        "outputId": "8b54a965-6664-4909-f513-c28c061e96e0"
      },
      "execution_count": 11,
      "outputs": [
        {
          "output_type": "stream",
          "name": "stdout",
          "text": [
            "\n",
            "Todos los archivos cargados han sido eliminados de la carpeta content de Google Colab.\n"
          ]
        }
      ]
    }
  ]
}